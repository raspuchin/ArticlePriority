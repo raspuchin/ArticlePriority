{
 "cells": [
  {
   "cell_type": "code",
   "execution_count": 1,
   "metadata": {},
   "outputs": [],
   "source": [
    "from sklearn.feature_extraction.text import TfidfTransformer, CountVectorizer\n",
    "from scipy.sparse import coo_matrix\n",
    "import pickle\n",
    "import os\n",
    "import nltk\n",
    "import pandas as pd\n",
    "#nltk.download('stopwords')\n",
    "from nltk.corpus import stopwords\n",
    "import re\n",
    "from nltk.stem.porter import PorterStemmer\n",
    "from nltk.tokenize import RegexpTokenizer\n",
    "\n",
    "#nltk.download('wordnet') \n",
    "from nltk.stem.wordnet import WordNetLemmatizer\n",
    "\n",
    "import tweepy\n",
    "import json\n",
    "import configparser"
   ]
  },
  {
   "cell_type": "code",
   "execution_count": 2,
   "metadata": {},
   "outputs": [],
   "source": [
    "cv = None\n",
    "tfidf_transformer = None\n",
    "feature_names = None\n",
    "stop_words = None\n",
    "\n",
    "woeid = None\n",
    "api = None"
   ]
  },
  {
   "cell_type": "code",
   "execution_count": 11,
   "metadata": {},
   "outputs": [],
   "source": [
    "def load():\n",
    "    global stop_words\n",
    "    global cv\n",
    "    global tfidf_transformer\n",
    "    global feature_names\n",
    "    global woeid\n",
    "    global api\n",
    "    stop_words = set(stopwords.words(\"english\"))\n",
    "    new_words = [\"using\", \"show\", \"result\", \"large\", \"also\", \"iv\", \"one\", \"two\", \"new\", \"previously\", \"shown\"]\n",
    "    stop_words = stop_words.union(new_words)\n",
    "    cv, tfidf_transformer, feature_names = pickle.load(open('vector.pickel','rb'))\n",
    "    \n",
    "    config = configparser.ConfigParser()\n",
    "    \n",
    "    config.read('dailyNews.ini')\n",
    "    woeid = int(config['woeid']['woeid'])\n",
    "    \n",
    "    auth = tweepy.OAuthHandler(config['twitter_api']['api_key'], config['twitter_api']['api_secret'])\n",
    "    auth.set_access_token(config['twitter_api']['token_key'], config['twitter_api']['token_secret'])\n",
    "    api = tweepy.API(auth)"
   ]
  },
  {
   "cell_type": "code",
   "execution_count": 14,
   "metadata": {},
   "outputs": [],
   "source": [
    "def preprocess(articles):\n",
    "    corp = []\n",
    "    for text in articles:\n",
    "        #Remove punctuations\n",
    "        text = re.sub('[^a-zA-Z]', ' ', text)\n",
    "\n",
    "        #Convert hashtags from camel case to normal text\n",
    "        text = ' '.join(re.findall(r'[A-Z](?:[a-z]+|[A-Z]*(?=[A-Z]|$))', text))\n",
    "        \n",
    "        #Convert to lowercase\n",
    "        text = text.lower()\n",
    "\n",
    "        #remove tags\n",
    "        text=re.sub(\"&lt;/?.*?&gt;\",\" &lt;&gt; \",text)\n",
    "\n",
    "        # remove special characters and digits\n",
    "        text=re.sub(\"(\\\\d|\\\\W)+\",\" \",text)\n",
    "\n",
    "        ##Convert to list from string\n",
    "        text = text.split()\n",
    "\n",
    "        ##Stemming\n",
    "        ps=PorterStemmer()\n",
    "        #Lemmatisation\n",
    "        lem = WordNetLemmatizer()\n",
    "        text = [lem.lemmatize(word) for word in text if not word in stop_words] \n",
    "        text = ' '.join(text)\n",
    "        corp.append(text)\n",
    "    return corp"
   ]
  },
  {
   "cell_type": "code",
   "execution_count": 15,
   "metadata": {},
   "outputs": [],
   "source": [
    "def sort_coo(coo_matrix):\n",
    "    tuples = zip(coo_matrix.col, coo_matrix.data)\n",
    "    return sorted(tuples, key=lambda x: (x[1], x[0]), reverse=True)\n",
    " \n",
    "def extract_topn_from_vector(feature_names, sorted_items, topn=10):\n",
    "    \"\"\"get the feature names and tf-idf score of top n items\"\"\"\n",
    "    \n",
    "    #use only topn items from vector\n",
    "    sorted_items = sorted_items[:topn]\n",
    " \n",
    "    score_vals = []\n",
    "    feature_vals = []\n",
    "    \n",
    "    # word index and corresponding tf-idf score\n",
    "    for idx, score in sorted_items:\n",
    "        \n",
    "        #keep track of feature name and its corresponding score\n",
    "        score_vals.append(round(score, 3))\n",
    "        feature_vals.append(feature_names[idx])\n",
    " \n",
    "    #create a tuples of feature,score\n",
    "    #results = zip(feature_vals,score_vals)\n",
    "    results= {}\n",
    "    for idx in range(len(feature_vals)):\n",
    "        results[feature_vals[idx]]=score_vals[idx]\n",
    "    \n",
    "    return results"
   ]
  },
  {
   "cell_type": "code",
   "execution_count": 16,
   "metadata": {},
   "outputs": [],
   "source": [
    "def getKeywordList(article):\n",
    "    corpus = preprocess([article])\n",
    "    #print('Corpus: ' + corpus[0])\n",
    "    tf_idf_vector=tfidf_transformer.transform(cv.transform(corpus))\n",
    "    sorted_items=sort_coo(tf_idf_vector.tocoo())\n",
    "    keywords=extract_topn_from_vector(feature_names,sorted_items)\n",
    "    return keywords"
   ]
  },
  {
   "cell_type": "code",
   "execution_count": 27,
   "metadata": {},
   "outputs": [],
   "source": [
    "def getTrends():\n",
    "    global woeid\n",
    "    global api\n",
    "    trends = api.trends_place(woeid)\n",
    "    trends = [x['name'] for x in trends[0]['trends']]\n",
    "    trends = preprocess(trends)\n",
    "    trends_final = []\n",
    "    for trend in trends:\n",
    "        if trend != '':\n",
    "            trends_final.append(trend)\n",
    "    return trends_final"
   ]
  },
  {
   "cell_type": "code",
   "execution_count": null,
   "metadata": {},
   "outputs": [],
   "source": [
    "#returns 0 if no priority and 1 otherwise\n",
    "def getPriority(article,trends):\n",
    "    keywords = getKeywordList(article)\n",
    "    for keyword in keywords:\n",
    "        for trend in trends:\n",
    "            if keyword in trends:\n",
    "                return 1\n",
    "    return 0"
   ]
  }
 ],
 "metadata": {
  "kernelspec": {
   "display_name": "Python 3",
   "language": "python",
   "name": "python3"
  },
  "language_info": {
   "codemirror_mode": {
    "name": "ipython",
    "version": 3
   },
   "file_extension": ".py",
   "mimetype": "text/x-python",
   "name": "python",
   "nbconvert_exporter": "python",
   "pygments_lexer": "ipython3",
   "version": "3.8.2"
  }
 },
 "nbformat": 4,
 "nbformat_minor": 4
}
